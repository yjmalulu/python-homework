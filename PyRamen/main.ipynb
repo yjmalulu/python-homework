{
 "cells": [
  {
   "cell_type": "code",
   "execution_count": 1,
   "id": "0aca28f1-0dff-41da-998a-6e1ac6c3d4f7",
   "metadata": {},
   "outputs": [],
   "source": [
    "# -*- coding: UTF-8 -*-\n",
    "\"\"\"PyRamen Homework Starter.\"\"\"\n",
    "\n",
    "# @TODO: Import libraries\n",
    "import csv\n",
    "from pathlib import Path"
   ]
  },
  {
   "cell_type": "code",
   "execution_count": 2,
   "id": "42cad925-2f78-43ce-b3d7-cf86a0979f08",
   "metadata": {},
   "outputs": [],
   "source": [
    "# @TODO: Set file paths for menu_data.csv and sales_data.csv\n",
    "menu_filepath = Path('menu_data.csv')\n",
    "sales_filepath = Path('sales_data.csv')"
   ]
  },
  {
   "cell_type": "code",
   "execution_count": 3,
   "id": "544a3c28-8afa-4a63-aad3-3721a4988b40",
   "metadata": {},
   "outputs": [],
   "source": [
    "# @TODO: Initialize list objects to hold our menu and sales data\n",
    "menu = []\n",
    "sales = []"
   ]
  },
  {
   "cell_type": "code",
   "execution_count": 4,
   "id": "53808e79-0665-49fb-8a34-13edeabaf657",
   "metadata": {},
   "outputs": [],
   "source": [
    "# @TODO: Read in the menu data into the menu list\n",
    "with open(menu_filepath,'r') as csvfile:\n",
    "    menu_reader=csv.reader(csvfile,delimiter=',')"
   ]
  },
  {
   "cell_type": "code",
   "execution_count": 5,
   "id": "0a816efc-c325-4336-92fd-c2a47a3b52d0",
   "metadata": {},
   "outputs": [],
   "source": [
    "# @TODO: Read in the sales data into the sales list\n",
    "with open(sales_filepath,'r') as csvfile:\n",
    "    sales_reader=csv.reader(csvfile,delimiter=',')"
   ]
  },
  {
   "cell_type": "code",
   "execution_count": 6,
   "id": "0622a1f2-4db4-446b-bba2-1424321119c9",
   "metadata": {},
   "outputs": [],
   "source": [
    "# @TODO: Initialize dict object to hold our key-value pairs of items and metrics\n",
    "report = {}"
   ]
  },
  {
   "cell_type": "code",
   "execution_count": 7,
   "id": "a8529d69-16ef-41a1-9c51-3b9f486336ad",
   "metadata": {},
   "outputs": [],
   "source": [
    "# Initialize a row counter variable\n",
    "row_count = 0"
   ]
  },
  {
   "cell_type": "code",
   "execution_count": null,
   "id": "9ca0c7db-3e8a-4818-ad85-c8f8b23d7763",
   "metadata": {},
   "outputs": [],
   "source": [
    "# @TODO: Loop over every row in the sales list object\n",
    "for row in sales_reader:\n",
    "    \n",
    "    # Line_Item_ID,Date,Credit_Card_Number,Quantity,Menu_Item\n",
    "    # @TODO: Initialize sales data variables\n"
   ]
  }
 ],
 "metadata": {
  "kernelspec": {
   "display_name": "Python 3 (ipykernel)",
   "language": "python",
   "name": "python3"
  },
  "language_info": {
   "codemirror_mode": {
    "name": "ipython",
    "version": 3
   },
   "file_extension": ".py",
   "mimetype": "text/x-python",
   "name": "python",
   "nbconvert_exporter": "python",
   "pygments_lexer": "ipython3",
   "version": "3.11.5"
  }
 },
 "nbformat": 4,
 "nbformat_minor": 5
}
