{
 "cells": [
  {
   "cell_type": "code",
   "execution_count": 1,
   "id": "7f7a60db-09f9-403e-bb33-dda78dc77f26",
   "metadata": {},
   "outputs": [],
   "source": [
    "from pathlib import Path\n",
    "import csv"
   ]
  },
  {
   "cell_type": "code",
   "execution_count": 2,
   "id": "640b795a-7543-46fe-aa60-e1e3dbc0b27b",
   "metadata": {},
   "outputs": [],
   "source": [
    "csvpath=Path('budget_data.csv')    \n",
    "record=[]"
   ]
  },
  {
   "cell_type": "code",
   "execution_count": 6,
   "id": "2941a815-6061-48bd-97c5-454ba9fa7f8c",
   "metadata": {},
   "outputs": [
    {
     "name": "stdout",
     "output_type": "stream",
     "text": [
      "Financial Analysis\n",
      "----------------------------\n",
      "Total Months: 86\n",
      "Total: :$38382578\n",
      "Average  Change:$-2315.12\n",
      "Greatest Increase in Profits:Feb-2012 ($1170593)\n",
      "Greatest Decrease in Profits:Sep-2013 ($-1196225)\n"
     ]
    }
   ],
   "source": [
    "months=0\n",
    "minimum=0\n",
    "maximum=0\n",
    "changes=0\n",
    "total=0\n",
    "profit_or_losses=0\n",
    "profit_or_losses_change=0\n",
    "with open(csvpath,'r') as csvfile:\n",
    "    csvreader=csv.reader(csvfile,delimiter=',')\n",
    "    header=next(csvreader)\n",
    "    for row in csvreader:\n",
    "        months+=1\n",
    "        record.append(row)\n",
    "        profit_or_losses=int(row[1])\n",
    "        total+=profit_or_losses\n",
    "        if profit_or_losses<=minimum:\n",
    "            minimum=profit_or_losses\n",
    "            minimum_month=months\n",
    "        elif profit_or_losses>maximum:\n",
    "            maximum=profit_or_losses\n",
    "            maximum_month=months\n",
    "    changes=int(record[months-1][1])-int(record[0][1])\n",
    "    average_changes=round(changes/(months-1),2)\n",
    "    print(\"Financial Analysis\")\n",
    "    print(\"----------------------------\")\n",
    "    print(f\"Total Months: {months}\")\n",
    "    print(f\"Total: :${total}\")\n",
    "    print(f\"Average  Change:${average_changes}\")\n",
    "    print(f\"Greatest Increase in Profits:{record[maximum_month-1][0]} (${maximum})\")\n",
    "    print(f\"Greatest Decrease in Profits:{record[minimum_month-1][0]} (${minimum})\")\n",
    "    \n",
    "        "
   ]
  },
  {
   "cell_type": "code",
   "execution_count": null,
   "id": "470ed2ac-f682-4cf5-9261-c569478a437f",
   "metadata": {},
   "outputs": [],
   "source": []
  }
 ],
 "metadata": {
  "kernelspec": {
   "display_name": "Python 3 (ipykernel)",
   "language": "python",
   "name": "python3"
  },
  "language_info": {
   "codemirror_mode": {
    "name": "ipython",
    "version": 3
   },
   "file_extension": ".py",
   "mimetype": "text/x-python",
   "name": "python",
   "nbconvert_exporter": "python",
   "pygments_lexer": "ipython3",
   "version": "3.11.5"
  }
 },
 "nbformat": 4,
 "nbformat_minor": 5
}
