{
 "cells": [
  {
   "cell_type": "code",
   "execution_count": 1,
   "id": "7f7a60db-09f9-403e-bb33-dda78dc77f26",
   "metadata": {},
   "outputs": [],
   "source": [
    "# Import libraries\n",
    "from pathlib import Path\n",
    "import csv"
   ]
  },
  {
   "cell_type": "code",
   "execution_count": 2,
   "id": "640b795a-7543-46fe-aa60-e1e3dbc0b27b",
   "metadata": {},
   "outputs": [],
   "source": [
    "#Set file paths for budget_data.csv\n",
    "csvpath=Path('budget_data.csv')    \n",
    "#Initialize list objects to hold budget data,profit_or_lose and changes of profit data\n",
    "record=[]\n",
    "profit_or_lose=[]\n",
    "change=[]"
   ]
  },
  {
   "cell_type": "code",
   "execution_count": 3,
   "id": "2941a815-6061-48bd-97c5-454ba9fa7f8c",
   "metadata": {},
   "outputs": [
    {
     "name": "stdout",
     "output_type": "stream",
     "text": [
      "Financial Analysis\n",
      "----------------------------\n",
      "Total Months: 86\n",
      "Total: :$38382578\n",
      "Average  Change:$-2315.12\n",
      "Greatest Increase in Profits: Feb-2012($1926159)\n",
      "Greatest Decrease in Profits: Sep-2013($-2196167)\n"
     ]
    }
   ],
   "source": [
    "months=0\n",
    "total=0\n",
    "count=0\n",
    "total_change=0\n",
    "average_change=0\n",
    "with open(csvpath,'r') as csvfile:\n",
    "    csvreader=csv.reader(csvfile,delimiter=',')\n",
    "    header=next(csvreader)\n",
    "    for row in csvreader:\n",
    "        months+=1\n",
    "        record.append(row)\n",
    "        profit_or_lose.append(int(row[1]))\n",
    "    for item in profit_or_lose:\n",
    "        total+=item\n",
    "        count+=1\n",
    "        index_of_month=profit_or_lose.index(item)\n",
    "        if count>=2:\n",
    "            profit_changes=profit_or_lose[count-1]-profit_or_lose[count-2]\n",
    "            date_change=[record[index_of_month][0],profit_changes]\n",
    "            change.append(date_change)\n",
    "    minimum=change[0][1]  \n",
    "    maximum=change[0][1]\n",
    "    for nums in change:\n",
    "        total_change+=nums[1]\n",
    "        if nums[1]<=minimum:\n",
    "            minimum=nums[1]\n",
    "            minimum_month=nums[0]\n",
    "        elif nums[1]>maximum:\n",
    "            maximum=nums[1]\n",
    "            maximum_month=nums[0]\n",
    "    average_change=round(total_change/len(change),2)\n",
    "    print(\"Financial Analysis\")\n",
    "    print(\"----------------------------\")\n",
    "    print(f\"Total Months: {months}\")\n",
    "    print(f\"Total: :${total}\")\n",
    "    print(f\"Average  Change:${average_change}\")\n",
    "    print(f\"Greatest Increase in Profits: {maximum_month}(${maximum})\")\n",
    "    print(f\"Greatest Decrease in Profits: {minimum_month}(${minimum})\")\n",
    "    \n",
    "        "
   ]
  },
  {
   "cell_type": "code",
   "execution_count": null,
   "id": "470ed2ac-f682-4cf5-9261-c569478a437f",
   "metadata": {},
   "outputs": [],
   "source": []
  }
 ],
 "metadata": {
  "kernelspec": {
   "display_name": "Python 3 (ipykernel)",
   "language": "python",
   "name": "python3"
  },
  "language_info": {
   "codemirror_mode": {
    "name": "ipython",
    "version": 3
   },
   "file_extension": ".py",
   "mimetype": "text/x-python",
   "name": "python",
   "nbconvert_exporter": "python",
   "pygments_lexer": "ipython3",
   "version": "3.11.5"
  }
 },
 "nbformat": 4,
 "nbformat_minor": 5
}
