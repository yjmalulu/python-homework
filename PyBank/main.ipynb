{
 "cells": [
  {
   "cell_type": "code",
   "execution_count": 1,
   "id": "7f7a60db-09f9-403e-bb33-dda78dc77f26",
   "metadata": {},
   "outputs": [],
   "source": [
    "# Import libraries\n",
    "from pathlib import Path\n",
    "import csv"
   ]
  },
  {
   "cell_type": "code",
   "execution_count": 2,
   "id": "640b795a-7543-46fe-aa60-e1e3dbc0b27b",
   "metadata": {},
   "outputs": [],
   "source": [
    "#Set file paths for budget_data.csv\n",
    "csvpath=Path('budget_data.csv')    \n",
    "#Initialize list objects to hold budget data,profit_or_lose and changes of profit data\n",
    "record=[]\n",
    "profit_or_lose=[]\n",
    "change=[]"
   ]
  },
  {
   "cell_type": "code",
   "execution_count": 4,
   "id": "2941a815-6061-48bd-97c5-454ba9fa7f8c",
   "metadata": {},
   "outputs": [
    {
     "name": "stdout",
     "output_type": "stream",
     "text": [
      "Financial Analysis\n",
      "----------------------------\n",
      "Total Months: 86\n",
      "Total: :$38382578\n",
      "Average  Change:$-2315.12\n",
      "Greatest Increase in Profits: Jan-2012($1926159)\n",
      "Greatest Decrease in Profits: Aug-2013($-2196167)\n"
     ]
    }
   ],
   "source": [
    "#Initialize variables to hold months, total profit or losses, count, total change and average change\n",
    "months=0\n",
    "total=0\n",
    "count=0\n",
    "total_change=0\n",
    "average_change=0\n"
   ]
  },
  {
   "cell_type": "code",
   "execution_count": null,
   "id": "d18c51fa-61e0-4d6e-a7bd-dca873310774",
   "metadata": {},
   "outputs": [],
   "source": [
    "# Open the csv file as an object  \n",
    "with open(csvpath,'r') as csvfile:\n",
    "# Pass in the csv file to the csv.reader() function with ',' as the delmiter/separator and return the csvreader object\n",
    "    csvreader=csv.reader(csvfile,delimiter=',')\n",
    "# Read the header row\n",
    "    header=next(csvreader)\n",
    "# Read each row of data after the header\n",
    "    for row in csvreader:\n",
    "# Caculate the total number of months included in the dataset\n",
    "        months+=1\n",
    "# Append the row to the record\n",
    "        record.append(row)\n",
    "# Append the second item (profit or losses data) to the list of profit_or_lose\n",
    "        profit_or_lose.append(int(row[1]))\n",
    "# Pass in the profit_or_lose list to caculate the change of each month\n",
    "    for item in profit_or_lose:\n",
    "# Caculate the total profite or losses of each month\n",
    "        total+=item\n",
    "        count+=1\n",
    "# Find the index of a specific month\n",
    "        index_of_month=profit_or_lose.index(item)\n",
    "# Caculate the total changes of each month, from the second month in the list\n",
    "        if count>=2:\n",
    "            profit_changes=profit_or_lose[count-1]-profit_or_lose[count-2]\n",
    "# Append the date and profite changes in a list named date_change, then append this date_change list in a list named change\n",
    "            date_change=[record[index_of_month][0],profit_changes]\n",
    "            change.append(date_change)\n",
    "# Initialize the metric variables then compare\n",
    "    minimum=change[0][1]  \n",
    "    maximum=change[0][1]\n",
    "# Logic to determine minimum and maximum values, and find the month date according to that value\n",
    "    for nums in change:\n",
    "        total_change+=nums[1]\n",
    "        if nums[1]<=minimum:\n",
    "            minimum=nums[1]\n",
    "            minimum_month=nums[0]\n",
    "        elif nums[1]>maximum:\n",
    "            maximum=nums[1]\n",
    "            maximum_month=nums[0]\n",
    "# Calculate the average\n",
    "    average_change=round(total_change/len(change),2)\n",
    "\n",
    "# Print out the summary statistics\n",
    "print(\"Financial Analysis\")\n",
    "print(\"----------------------------\")\n",
    "print(f\"Total Months: {months}\")\n",
    "print(f\"Total: :${total}\")\n",
    "print(f\"Average  Change:${average_change}\")\n",
    "print(f\"Greatest Increase in Profits: {maximum_month}(${maximum})\")\n",
    "print(f\"Greatest Decrease in Profits: {minimum_month}(${minimum})\")\n",
    "    \n",
    "        "
   ]
  },
  {
   "cell_type": "code",
   "execution_count": null,
   "id": "470ed2ac-f682-4cf5-9261-c569478a437f",
   "metadata": {},
   "outputs": [],
   "source": []
  }
 ],
 "metadata": {
  "kernelspec": {
   "display_name": "Python 3 (ipykernel)",
   "language": "python",
   "name": "python3"
  },
  "language_info": {
   "codemirror_mode": {
    "name": "ipython",
    "version": 3
   },
   "file_extension": ".py",
   "mimetype": "text/x-python",
   "name": "python",
   "nbconvert_exporter": "python",
   "pygments_lexer": "ipython3",
   "version": "3.11.5"
  }
 },
 "nbformat": 4,
 "nbformat_minor": 5
}
