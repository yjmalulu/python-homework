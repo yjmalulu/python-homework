{
 "cells": [
  {
   "cell_type": "code",
   "execution_count": 1,
   "id": "7f7a60db-09f9-403e-bb33-dda78dc77f26",
   "metadata": {},
   "outputs": [],
   "source": [
    "# Import libraries\n",
    "from pathlib import Path\n",
    "import csv"
   ]
  },
  {
   "cell_type": "code",
   "execution_count": 2,
   "id": "640b795a-7543-46fe-aa60-e1e3dbc0b27b",
   "metadata": {},
   "outputs": [],
   "source": [
    "#Set file paths for budget_data.csv\n",
    "csvpath=Path('budget_data.csv')    \n",
    "#Initialize list objects to hold budget data,profit_or_lose and changes of profit data\n",
    "record=[]\n",
    "profit_or_lose=[]\n",
    "change=[]"
   ]
  },
  {
   "cell_type": "code",
   "execution_count": 3,
   "id": "2941a815-6061-48bd-97c5-454ba9fa7f8c",
   "metadata": {},
   "outputs": [],
   "source": [
    "#Initialize variables to hold months, total profit or losses, count, total change and average change\n",
    "months=0\n",
    "total=0\n",
    "count=0\n",
    "total_change=0\n",
    "average_change=0"
   ]
  },
  {
   "cell_type": "code",
   "execution_count": 4,
   "id": "d18c51fa-61e0-4d6e-a7bd-dca873310774",
   "metadata": {},
   "outputs": [],
   "source": [
    "# Open the csv file as an object  \n",
    "with open(csvpath,'r') as csvfile:\n",
    "# Pass in the csv file to the csv.reader() function with ',' as the delmiter/separator and return the csvreader object\n",
    "    csvreader=csv.reader(csvfile,delimiter=',')\n",
    "# Read the header row\n",
    "    header=next(csvreader)\n",
    "# Read each row of data after the header\n",
    "    for row in csvreader:\n",
    "# Caculate the total number of months included in the dataset\n",
    "        months+=1\n",
    "# Append the row to the record\n",
    "        record.append(row)\n",
    "# Append the second item (profit or losses data) to the list of profit_or_lose\n",
    "        profit_or_lose.append(int(row[1]))"
   ]
  },
  {
   "cell_type": "code",
   "execution_count": 5,
   "id": "00de5949-4934-4eb2-85b8-dc20f479f237",
   "metadata": {},
   "outputs": [],
   "source": [
    "# Pass in the profit_or_lose list to caculate the change of each month\n",
    "for item in profit_or_lose:\n",
    "# Caculate the total profite or losses of each month\n",
    "    total+=item\n",
    "    count+=1\n",
    "# Find the index of a specific month\n",
    "    index_of_month=profit_or_lose.index(item)\n",
    "# Caculate the total changes of each month, from the second month in the list\n",
    "    if count>=2:\n",
    "        profit_changes=profit_or_lose[count-1]-profit_or_lose[count-2]\n",
    "# Append the date and profite changes in a list named date_change, then append this date_change list in a list named change\n",
    "        date_change=[record[index_of_month][0],profit_changes]\n",
    "        change.append(date_change)"
   ]
  },
  {
   "cell_type": "code",
   "execution_count": 6,
   "id": "b1161016-1519-4df3-933d-f85b16aa826a",
   "metadata": {},
   "outputs": [],
   "source": [
    "# Initialize the metric variables then compare\n",
    "minimum=change[0][1]  \n",
    "maximum=change[0][1]\n",
    "# Logic to determine minimum and maximum values, and find the month date according to that value\n",
    "for nums in change:\n",
    "    total_change+=nums[1]\n",
    "    if nums[1]<=minimum:\n",
    "        minimum=nums[1]\n",
    "        minimum_month=nums[0]\n",
    "    elif nums[1]>maximum:\n",
    "        maximum=nums[1]\n",
    "        maximum_month=nums[0]\n",
    "# Calculate the average\n",
    "average_change=round(total_change/len(change),2)  "
   ]
  },
  {
   "cell_type": "code",
   "execution_count": 7,
   "id": "900ccef2-c64a-419c-bc98-a07d230ce9e5",
   "metadata": {},
   "outputs": [
    {
     "name": "stdout",
     "output_type": "stream",
     "text": [
      "Financial Analysis\n",
      "----------------------------\n",
      "Total Months: 86\n",
      "Total: :$38382578\n",
      "Average  Change:$-2315.12\n",
      "Greatest Increase in Profits: Feb-2012($1926159)\n",
      "Greatest Decrease in Profits: Sep-2013($-2196167)\n"
     ]
    }
   ],
   "source": [
    "# Print out the summary statistics\n",
    "print(\"Financial Analysis\")\n",
    "print(\"----------------------------\")\n",
    "print(f\"Total Months: {months}\")\n",
    "print(f\"Total: :${total}\")\n",
    "print(f\"Average  Change:${average_change}\")\n",
    "print(f\"Greatest Increase in Profits: {maximum_month}(${maximum})\")\n",
    "print(f\"Greatest Decrease in Profits: {minimum_month}(${minimum})\")"
   ]
  },
  {
   "cell_type": "code",
   "execution_count": 8,
   "id": "726b808d-7c7b-4623-8d94-8590e005240f",
   "metadata": {},
   "outputs": [],
   "source": [
    "# Export a text file with the results\n",
    "# Send the results to a output file\n",
    "out_path=Path(\"results.txt\")\n",
    "# Open this results.txt file and write the results above\n",
    "with open(out_path, \"w\") as file:  \n",
    "# Write the results to the file\n",
    "    file.write(\"Financial Analysis\\n----------------------------\\nTotal Months: 86\\nTotal: :$38382578\\nAverage  Change:$-2315.12\\nGreatest Increase in Profits: Feb-2012($1926159)\\nGreatest Decrease in Profits: Sep-2013($-2196167)\")"
   ]
  },
  {
   "cell_type": "code",
   "execution_count": null,
   "id": "34e465d9-28bc-413a-89d6-cff40ac552fa",
   "metadata": {},
   "outputs": [],
   "source": []
  },
  {
   "cell_type": "code",
   "execution_count": null,
   "id": "2290049d-ea85-4fe1-8058-93d3a4c0007f",
   "metadata": {},
   "outputs": [],
   "source": []
  }
 ],
 "metadata": {
  "kernelspec": {
   "display_name": "Python 3 (ipykernel)",
   "language": "python",
   "name": "python3"
  },
  "language_info": {
   "codemirror_mode": {
    "name": "ipython",
    "version": 3
   },
   "file_extension": ".py",
   "mimetype": "text/x-python",
   "name": "python",
   "nbconvert_exporter": "python",
   "pygments_lexer": "ipython3",
   "version": "3.11.5"
  }
 },
 "nbformat": 4,
 "nbformat_minor": 5
}
